{
  "cells": [
    {
      "cell_type": "markdown",
      "metadata": {
        "id": "ReA2xCqaBfr6"
      },
      "source": [
        "# Group Cosine Sim LSH\n",
        "## By: Bo Zhang, Ian Liu, Ian Shyue"
      ]
    },
    {
      "cell_type": "markdown",
      "metadata": {
        "id": "D6pQSaae6yBk"
      },
      "source": [
        "First, please study LSH based on cosine similarity:\n",
        "https://www.bogotobogo.com/Algorithms/Locality_Sensitive_Hashing_LSH_using_Cosine_Distance_Similarity.php\n",
        "\n",
        "And some additional code with the same implementation:\n",
        "\n",
        "https://blog.untrod.com/2016/06/simple-similar-products-recommendation-engine-in-python.html\n",
        "\n",
        "http://ethen8181.github.io/machine-learning/recsys/content_based/lsh_text.html\n",
        "\n",
        "Second, you need to build a recommendation system using LSH based on cosine similarity: you want to use TF-IDF of documents for cosine similarity.\n",
        "Required functionality of your recommendation system:\n",
        "\n",
        "1. Given thousands of articles, you compute the hash value for each article. The 1st document shows how to create 1024 bits hash--this is equivalent to 1024 rows in minhash while in this case, each hash function produces one-bit int and in minhash each hash function/permutation produces 1 regular 4-byte integer.\n",
        "\n",
        "Cosine Similarity of two TF-IDF vectors (two articles) = Sim(doc1, doc2) = cos( h/b * pi) ; h/b is the probability for hashed bits to match between two docs. So\n",
        "\n",
        "prob(matching 1 particular bit between 2 doc) = 1 - h/b = 1 - arccos ( cosine_Sim(doc1, doc2) ) / pi\n",
        "\n",
        "That said, given the cosine similarity of the two documents, you know what's the probability for two hashed bits to match.\n",
        "\n",
        "Now you want to use the same idea of band and rows for 1024 (or any other number) hashed bits to control TPR/TNR\n",
        "\n",
        "2. With num_bands, num_rows (i.e. number of bytes*8) as parameters, you save the hash value for each doc in a dictionary, using hash value as the key, and dictionary value is a list with doc ID as list member.\n",
        "\n",
        "Say you use 1024 bits total and you divide them into 16 bands and each band has 64 bits (or rows) or 8 bytes. An 64-bits integer is your hash value for one particular band.\n",
        "\n",
        "If you have 16 bands, then you have 16 different dictionaries in total, with each corresponding to one band. Each article will produce 16 hash values (each with 64 bits, from one band) and each hash will be used as the key to the corresponding dictionary. The values for each dictionary are lists of article IDs that hash (64 bits, for that band) into the same \"bucket\".\n",
        "\n",
        "3. For query, you are given an article and cosine similarity threshold, you want to return top_n articles that have cosine similarity >= threshold and list them in descending order of similarity with options to print ID only or to print the first N characters from each article. Generally, you compute 16 hash values (assuming you have 16 bands)  candidates are found in 16 dictionaries with these 16 hash values as keys. If no key exists in any of the dictionaries then there is no match. If two dictionaries have matching keys then you combine two lists as candidates. Then you do validation to make sure the similarity is above the threshold.\n",
        "\n",
        "Alternatively, you can use just one big dictionary. In this case, a hash value 01011101011110111 from band 1 will be converted to a string for dictionary key: \"01011101011110111b1\" with \"b1\" indicating band 1, so only band 1 hash can possibly get the same key.\n",
        "\n",
        "Note: You need to complete the code with the required functionality, and write a full project report explaining what you are doing with the code as an appendix. You need to demonstrate with some example query articles/ query strings. In your report, you need to compute what is your TPR, and FNR for a few sets of typical values of num_bands, num_rows, and similarity thresholds, plus corresponding example queries.\n",
        "\n",
        "4. Dataset: you can use the 20 newsgroup dataset: https://scikit-learn.org/0.19/datasets/twenty_newsgroups.html (Links to an external site.)Links to an external site.\n",
        "\n",
        "A newsgroup is like an email discussion group based on one specific topic.\n",
        "\n",
        "Just use the training set:\n",
        "\n",
        "`from sklearn.datasets import fetch_20newsgroups`\n",
        "\n",
        "`newsgroups_train = fetch_20newsgroups(subset='train')`\n",
        "\n",
        "`dir(newsgroups_train)`\n",
        "\n",
        "  ['DESCR', 'data', 'filenames', 'target', 'target_names']\n",
        "\n",
        "`len(newsgroups_train.data)`\n",
        "\n",
        " 11314\n",
        "\n",
        "\n",
        "Use newsgroups_train.data as a list of documents.\n",
        "newsgroups_train.target is corresponding list of topics for these documents.\n",
        "You do not have to use these, but these give you a hint to validate your query: similar docs live under the same subject.\n",
        "\n",
        "This project is counted as part of final projects.\n",
        "\n",
        "Each member must submit your group PDF and notebook,\n",
        "as well as your contribution in the project with all members' siugnatures.\n",
        "\n",
        "\n"
      ]
    },
    {
      "cell_type": "code",
      "execution_count": null,
      "metadata": {
        "id": "EXqXa_3IgHWs"
      },
      "outputs": [],
      "source": [
        "!apt install -qq enchant\n",
        "!pip install pyenchant"
      ]
    },
    {
      "cell_type": "code",
      "execution_count": null,
      "metadata": {
        "colab": {
          "base_uri": "https://localhost:8080/"
        },
        "id": "XM28M0b80lwr",
        "outputId": "a3927dbd-78a0-4cc4-841d-57e8e2fa7223"
      },
      "outputs": [
        {
          "name": "stderr",
          "output_type": "stream",
          "text": [
            "[nltk_data] Downloading package stopwords to /Users/bo/nltk_data...\n",
            "[nltk_data]   Package stopwords is already up-to-date!\n"
          ]
        }
      ],
      "source": [
        "from __future__ import division\n",
        "\n",
        "import gc\n",
        "import math\n",
        "import pickle\n",
        "import random\n",
        "import re\n",
        "import time\n",
        "import json\n",
        "from collections import defaultdict\n",
        "\n",
        "import matplotlib.pyplot as plt\n",
        "import nltk\n",
        "import numpy as np\n",
        "import pandas as pd\n",
        "from nltk.corpus import stopwords\n",
        "from pandas.core.dtypes.dtypes import Ordered\n",
        "from scipy.integrate import quad as integrate\n",
        "from sklearn.datasets import fetch_20newsgroups\n",
        "from sklearn.feature_extraction.text import TfidfVectorizer\n",
        "from sklearn.metrics.pairwise import linear_kernel\n",
        "from tqdm import tqdm\n",
        "\n",
        "nltk.download(\"stopwords\")\n",
        "import string\n",
        "\n",
        "\n",
        "import enchant\n",
        "english_dictionary = enchant.Dict(\"en_US\")\n",
        "\n",
        "\n",
        "newsgroups_train = fetch_20newsgroups(subset=\"train\")"
      ]
    },
    {
      "cell_type": "code",
      "execution_count": null,
      "metadata": {
        "colab": {
          "base_uri": "https://localhost:8080/"
        },
        "id": "CTbVBLagePXD",
        "outputId": "8bda8228-fc92-4073-fbbf-1f8a031fe43b"
      },
      "outputs": [
        {
          "name": "stdout",
          "output_type": "stream",
          "text": [
            "Mounted at /content/gdrive\n"
          ]
        }
      ],
      "source": [
        "from google.colab import drive\n",
        "drive.mount('/content/gdrive')"
      ]
    },
    {
      "cell_type": "code",
      "execution_count": null,
      "metadata": {
        "colab": {
          "base_uri": "https://localhost:8080/"
        },
        "id": "PoPwh_JN6bwo",
        "outputId": "c4c0d4b9-064e-49c6-eec6-424ddf923482"
      },
      "outputs": [
        {
          "data": {
            "text/plain": [
              "['DESCR', 'data', 'filenames', 'target', 'target_names']"
            ]
          },
          "execution_count": 10,
          "metadata": {},
          "output_type": "execute_result"
        }
      ],
      "source": [
        "dir(newsgroups_train)"
      ]
    },
    {
      "cell_type": "markdown",
      "metadata": {
        "id": "KynsDR9C9ELG"
      },
      "source": [
        "## Clean Data"
      ]
    },
    {
      "cell_type": "code",
      "execution_count": null,
      "metadata": {
        "colab": {
          "base_uri": "https://localhost:8080/",
          "height": 423
        },
        "id": "Zq4IpRHe9D7f",
        "outputId": "bf23cc31-eb14-49f6-c607-e7be5c1aba1f"
      },
      "outputs": [
        {
          "data": {
            "text/html": [
              "<div>\n",
              "<style scoped>\n",
              "    .dataframe tbody tr th:only-of-type {\n",
              "        vertical-align: middle;\n",
              "    }\n",
              "\n",
              "    .dataframe tbody tr th {\n",
              "        vertical-align: top;\n",
              "    }\n",
              "\n",
              "    .dataframe thead th {\n",
              "        text-align: right;\n",
              "    }\n",
              "</style>\n",
              "<table border=\"1\" class=\"dataframe\">\n",
              "  <thead>\n",
              "    <tr style=\"text-align: right;\">\n",
              "      <th></th>\n",
              "      <th>id</th>\n",
              "      <th>description</th>\n",
              "    </tr>\n",
              "  </thead>\n",
              "  <tbody>\n",
              "    <tr>\n",
              "      <th>0</th>\n",
              "      <td>0</td>\n",
              "      <td>From: lerxst@wam.umd.edu (where's my thing)\\nS...</td>\n",
              "    </tr>\n",
              "    <tr>\n",
              "      <th>1</th>\n",
              "      <td>1</td>\n",
              "      <td>From: guykuo@carson.u.washington.edu (Guy Kuo)...</td>\n",
              "    </tr>\n",
              "    <tr>\n",
              "      <th>2</th>\n",
              "      <td>2</td>\n",
              "      <td>From: twillis@ec.ecn.purdue.edu (Thomas E Will...</td>\n",
              "    </tr>\n",
              "    <tr>\n",
              "      <th>3</th>\n",
              "      <td>3</td>\n",
              "      <td>From: jgreen@amber (Joe Green)\\nSubject: Re: W...</td>\n",
              "    </tr>\n",
              "    <tr>\n",
              "      <th>4</th>\n",
              "      <td>4</td>\n",
              "      <td>From: jcm@head-cfa.harvard.edu (Jonathan McDow...</td>\n",
              "    </tr>\n",
              "    <tr>\n",
              "      <th>...</th>\n",
              "      <td>...</td>\n",
              "      <td>...</td>\n",
              "    </tr>\n",
              "    <tr>\n",
              "      <th>11309</th>\n",
              "      <td>11309</td>\n",
              "      <td>From: jim.zisfein@factory.com (Jim Zisfein) \\n...</td>\n",
              "    </tr>\n",
              "    <tr>\n",
              "      <th>11310</th>\n",
              "      <td>11310</td>\n",
              "      <td>From: ebodin@pearl.tufts.edu\\nSubject: Screen ...</td>\n",
              "    </tr>\n",
              "    <tr>\n",
              "      <th>11311</th>\n",
              "      <td>11311</td>\n",
              "      <td>From: westes@netcom.com (Will Estes)\\nSubject:...</td>\n",
              "    </tr>\n",
              "    <tr>\n",
              "      <th>11312</th>\n",
              "      <td>11312</td>\n",
              "      <td>From: steve@hcrlgw (Steven Collins)\\nSubject: ...</td>\n",
              "    </tr>\n",
              "    <tr>\n",
              "      <th>11313</th>\n",
              "      <td>11313</td>\n",
              "      <td>From: gunning@cco.caltech.edu (Kevin J. Gunnin...</td>\n",
              "    </tr>\n",
              "  </tbody>\n",
              "</table>\n",
              "<p>11314 rows × 2 columns</p>\n",
              "</div>"
            ],
            "text/plain": [
              "          id                                        description\n",
              "0          0  From: lerxst@wam.umd.edu (where's my thing)\\nS...\n",
              "1          1  From: guykuo@carson.u.washington.edu (Guy Kuo)...\n",
              "2          2  From: twillis@ec.ecn.purdue.edu (Thomas E Will...\n",
              "3          3  From: jgreen@amber (Joe Green)\\nSubject: Re: W...\n",
              "4          4  From: jcm@head-cfa.harvard.edu (Jonathan McDow...\n",
              "...      ...                                                ...\n",
              "11309  11309  From: jim.zisfein@factory.com (Jim Zisfein) \\n...\n",
              "11310  11310  From: ebodin@pearl.tufts.edu\\nSubject: Screen ...\n",
              "11311  11311  From: westes@netcom.com (Will Estes)\\nSubject:...\n",
              "11312  11312  From: steve@hcrlgw (Steven Collins)\\nSubject: ...\n",
              "11313  11313  From: gunning@cco.caltech.edu (Kevin J. Gunnin...\n",
              "\n",
              "[11314 rows x 2 columns]"
            ]
          },
          "execution_count": 2,
          "metadata": {},
          "output_type": "execute_result"
        }
      ],
      "source": [
        "news_df = pd.DataFrame()\n",
        "news_df[\"id\"] = newsgroups_train.target\n",
        "news_df[\"id\"] = list(range(len(newsgroups_train.data)))\n",
        "news_df[\"description\"] = newsgroups_train.data\n",
        "\n",
        "news_df"
      ]
    },
    {
      "cell_type": "markdown",
      "metadata": {
        "id": "ikMHMYYBeb8x"
      },
      "source": [
        "#1"
      ]
    },
    {
      "cell_type": "code",
      "execution_count": null,
      "metadata": {
        "id": "QwVAhISFeb8y"
      },
      "outputs": [],
      "source": [
        "# https://www.bogotobogo.com/Algorithms/Locality_Sensitive_Hashing_LSH_using_Cosine_Distance_Similarity.php\n",
        "\n",
        "\n",
        "def signature_bit(data, planes):\n",
        "    \"\"\"\n",
        "    LSH signature generation using random projection\n",
        "    Returns the signature bits for two data points.\n",
        "    The signature bits of the two points are different\n",
        "    only for the plane that divides the two points.\n",
        "    \"\"\"\n",
        "    sig = 0\n",
        "    for p in planes:\n",
        "        sig <<= 1\n",
        "        if np.dot(data, p) >= 0:\n",
        "            sig |= 1\n",
        "    return sig\n",
        "\n",
        "\n",
        "def bitcount(n: int):\n",
        "    \"\"\"\n",
        "    gets the number of bits set to 1\n",
        "    \"\"\"\n",
        "    count = 0\n",
        "    while n:\n",
        "        count += 1\n",
        "        n = n & (n - 1)\n",
        "    return count\n",
        "\n",
        "\n",
        "def length(v: int):\n",
        "    \"\"\"\n",
        "    returns the length of a vector\n",
        "    \"\"\"\n",
        "    return math.sqrt(np.dot(v, v))"
      ]
    },
    {
      "cell_type": "code",
      "execution_count": null,
      "metadata": {
        "id": "mQB0ZQG5eb8z"
      },
      "outputs": [],
      "source": [
        "tf = TfidfVectorizer(\n",
        "    analyzer=\"word\", ngram_range=(1, 1), min_df=0, stop_words=\"english\"\n",
        ")\n",
        "\n",
        "_ = tf.fit_transform(news_df[\"description\"])"
      ]
    },
    {
      "cell_type": "code",
      "execution_count": null,
      "metadata": {
        "id": "L9f66WRNPM9W"
      },
      "outputs": [],
      "source": [
        "def filter_words(word_list: list) -> list:\n",
        "    \"\"\"Reomves words from a list of words that are in English stop words and if they are not alphabetical characters.\n",
        "    Underscore characters are rmoved.\n",
        "\n",
        "    Parameters\n",
        "    ----------\n",
        "    word_list : list\n",
        "\n",
        "    Returns\n",
        "    -------\n",
        "    list\n",
        "    \"\"\"\n",
        "\n",
        "    stop_words = set(stopwords.words(\"english\"))\n",
        "    filtered_words = [\n",
        "        word.lower()\n",
        "        for word in word_list\n",
        "        if not any(char.isdigit() for char in word) and word.lower() not in stop_words\n",
        "    ]\n",
        "    split_words = []\n",
        "    for word in filtered_words:\n",
        "        split_words += re.split(r\"\\s|_\", word)\n",
        "    return split_words\n",
        "\n",
        "\n",
        "def drop_list(words_list: list) -> list:\n",
        "    \"\"\"Removes words from a list of words that are not alphabetical characters.\n",
        "\n",
        "    Parameters\n",
        "    ----------\n",
        "    words_list : list\n",
        "\n",
        "    Returns\n",
        "    -------\n",
        "    list\n",
        "    \"\"\"\n",
        "    words_list = [word.strip() for word in words_list if word.strip() != \"\"]\n",
        "    words_list = [word for word in words_list if all(char.isalpha() for char in word)]\n",
        "    return words_list if len(words_list) > 0 else None\n",
        "\n",
        "\n",
        "def clean_text(document: str) -> list:\n",
        "    \"\"\"Cleans text and returns a list of words in the text sorted alphabetically\n",
        "    Duplicate words are kept.\n",
        "\n",
        "    Parameters\n",
        "    ----------\n",
        "    document : str\n",
        "\n",
        "    Returns\n",
        "    -------\n",
        "    list\n",
        "    \"\"\"\n",
        "    if isinstance(document, str):\n",
        "        words = document.split()\n",
        "    else:\n",
        "        words = document\n",
        "\n",
        "    cleaned_words = filter_words(words)\n",
        "    cleaned_words = drop_list(\n",
        "        cleaned_words\n",
        "    )  # strip space and remove nonalphabetical characters\n",
        "    # if english_dictionary is not None: cleaned_words = [i for i in cleaned_words if english_dictionary.check(i) is True]\n",
        "    return cleaned_words"
      ]
    },
    {
      "cell_type": "code",
      "execution_count": null,
      "metadata": {
        "colab": {
          "base_uri": "https://localhost:8080/"
        },
        "id": "T-dZd7XkPX45",
        "outputId": "34e08fbc-579f-45a7-be28-eda284e4e728"
      },
      "outputs": [
        {
          "name": "stdout",
          "output_type": "stream",
          "text": [
            "30488\n"
          ]
        }
      ],
      "source": [
        "unique_words = tf.vocabulary_.keys()  # unique words in all documents\n",
        "unique_filtered_words = sorted(\n",
        "    list(set(clean_text(unique_words)))\n",
        ")  # unique words in all documents after filtering\n",
        "\n",
        "print(len(unique_words), len(unique_filtered_words))"
      ]
    },
    {
      "cell_type": "code",
      "execution_count": null,
      "metadata": {
        "id": "zkkl1QYgWlAY"
      },
      "outputs": [],
      "source": [
        "with open(\"/Users/bo/Desktop/Data Mining/unique_filtered_words.pkl\", \"rb\") as fp:\n",
        "    unique_filtered_words = pickle.load(fp)\n",
        "    unique_filtered_words = sorted(unique_filtered_words)"
      ]
    },
    {
      "cell_type": "code",
      "execution_count": null,
      "metadata": {
        "id": "YD0P06LHSQB8"
      },
      "outputs": [],
      "source": [
        "word_to_index_mapping = {\n",
        "    word: index for index, word in enumerate(unique_filtered_words)\n",
        "}\n",
        "index_to_word_mapping = {\n",
        "    index: word for index, word in enumerate(unique_filtered_words)\n",
        "}\n",
        "\n",
        "with open(\"index_to_word_mapping.pkl\", \"wb\") as fp:\n",
        "    pickle.dump(index_to_word_mapping, fp)\n",
        "\n",
        "with open(\"word_to_index_mapping.pkl\", \"wb\") as fp:\n",
        "    pickle.dump(word_to_index_mapping, fp)"
      ]
    },
    {
      "cell_type": "code",
      "execution_count": null,
      "metadata": {
        "id": "1HxfpR7OTyiQ"
      },
      "outputs": [],
      "source": [
        "def tf_of_doc(doc: str, unique_word_list: list) -> dict:\n",
        "    \"\"\"Generates TF for a given string.\n",
        "\n",
        "    Parameters\n",
        "    ----------\n",
        "    doc : str\n",
        "        Document to extract TF from.\n",
        "    unique_word_list : list\n",
        "        List of unique words.\n",
        "        If a word in the document is not found in the unique_word_list,\n",
        "        it is ignored and not returned in the final dictionary.\n",
        "\n",
        "    Returns\n",
        "    -------\n",
        "    dict\n",
        "        Dictionary of key=word, value=count\n",
        "    \"\"\"\n",
        "    counts = dict()\n",
        "    words = clean_text(\n",
        "        doc\n",
        "    )  # Ensure that all words are lowercase and formatted correctly\n",
        "    if unique_word_list is None:\n",
        "        unique_word_list = set(words.copy())\n",
        "\n",
        "    if words is None: return dict()\n",
        "    for word in words:\n",
        "        if word not in unique_word_list:\n",
        "            continue\n",
        "        if word in counts:\n",
        "            counts[word] += 1\n",
        "        else:\n",
        "            counts[word] = 1\n",
        "\n",
        "    return counts\n",
        "\n",
        "\n",
        "def tf_of_docs(\n",
        "    docs: list,\n",
        "    unique_word_list: list,\n",
        "    matrix_bool=True,\n",
        "    get_idf_bool=False,\n",
        "    get_df_bool: bool = False,\n",
        "    word_to_index_mapper: dict = None,\n",
        "):\n",
        "    \"\"\"_summary_\n",
        "\n",
        "    Parameters\n",
        "    ----------\n",
        "    docs : list\n",
        "        List of strings to calculate TF for.\n",
        "    unique_word_list : list\n",
        "        List of unique words to calculate TF for. If a word in a document is not in this list, it is ignored.\n",
        "    matrix_bool : bool, optional\n",
        "        Whether or not to generate the TF matrix as a Numpy array or Pandas DataFrame., by default True\n",
        "        Note: Generating the TF matrix as a Pandas DataFrame has not been tested yet. There may be errors.\n",
        "    get_idf_bool : bool, optional\n",
        "        Whether or not to output the IDF dictionary, by default False\n",
        "    get_df_bool : bool, optional\n",
        "        Whether or not to get the DF dictionary, by default False\n",
        "    word_to_index_mapper : dict, optional\n",
        "        Whether or not to use a default word_to_index mapper, by default None\n",
        "\n",
        "    Returns\n",
        "    -------\n",
        "    _type_\n",
        "        _description_\n",
        "    \"\"\"\n",
        "\n",
        "    num_of_doc = len(docs)\n",
        "    if word_to_index_mapper is None:\n",
        "        word_to_index_mapper = {\n",
        "            word: index for index, word in enumerate(unique_word_list)\n",
        "        }\n",
        "\n",
        "    if not matrix_bool:\n",
        "        tf_matrix = pd.DataFrame(\n",
        "            columns=unique_word_list, index=list(range(num_of_doc)), dtype=\"int64\"\n",
        "        )\n",
        "        tf_matrix = tf_matrix.fillna(0.0)\n",
        "    else:\n",
        "        # Create a TF*IDF matrix where columns are words and rows are documents\n",
        "        X = np.zeros(len(unique_word_list))\n",
        "        tf_matrix = np.vstack([X] * num_of_doc)\n",
        "\n",
        "    if get_idf_bool is True or get_df_bool is True:\n",
        "        DF_dict = defaultdict(lambda: 0) #Document frequency counter\n",
        "\n",
        "    for doc_indx, doc in enumerate(docs):\n",
        "        tf_dict = tf_of_doc(doc, unique_word_list)\n",
        "        for vocab in tf_dict.keys():\n",
        "            word_indx = word_to_index_mapper[vocab]\n",
        "\n",
        "            if matrix_bool is False:\n",
        "                tf_matrix.loc[doc_indx, vocab] = tf_dict.get(vocab)\n",
        "            else:\n",
        "                tf_matrix[doc_indx, word_indx] = tf_dict.get(vocab)\n",
        "\n",
        "            if get_idf_bool is True or get_df_bool is True:\n",
        "                DF_dict[word_indx] += 1\n",
        "                DF_dict[vocab] += 1\n",
        "\n",
        "        gc.collect()  # Garbage collection\n",
        "\n",
        "    if get_idf_bool is True or get_df_bool is True:\n",
        "        IDF_dict = DF_dict.copy()\n",
        "        for key, _ in IDF_dict.items():\n",
        "            IDF_dict[key] = math.log2(num_of_doc / IDF_dict.get(key)) #Compute IDF from DF\n",
        "\n",
        "            #convert defaultdict to dict so that the dictionary can be pickled\n",
        "            DF_dict = dict(DF_dict)\n",
        "            IDF_dict = dict(IDF_dict)\n",
        "\n",
        "        if get_df_bool is True and get_idf_bool is True:\n",
        "            return tf_matrix, IDF_dict, DF_dict\n",
        "        elif get_idf_bool is True:\n",
        "            return tf_matrix, IDF_dict\n",
        "        else:\n",
        "            return tf_matrix, DF_dict\n",
        "\n",
        "    return tf_matrix"
      ]
    },
    {
      "cell_type": "code",
      "execution_count": null,
      "metadata": {
        "id": "quxKiOFlZsnr",
        "outputId": "65bd7df0-dbff-4750-cf6f-8ff5d4438e9d"
      },
      "outputs": [
        {
          "name": "stdout",
          "output_type": "stream",
          "text": [
            "Equal?\n",
            "False\n"
          ]
        }
      ],
      "source": [
        "tf_matrix, IDF_dict, DF_dict = tf_of_docs(docs =news_df['description'],\n",
        "           unique_word_list = unique_filtered_words,\n",
        "           matrix_bool=True,\n",
        "           get_df=True,\n",
        "           get_idf=True,\n",
        "           word_to_index_mapper=word_to_index_mapping)\n",
        "\n",
        "\n",
        "with open('DF_dict.pkl', 'wb') as fp:\n",
        "    pickle.dump(DF_dict, fp)\n",
        "with open('tf.pkl', 'wb') as fp:\n",
        "    pickle.dump(tf_matrix, fp)\n",
        "with open('IDF_dict.pkl', 'wb') as fp:\n",
        "    pickle.dump(IDF_dict, fp)"
      ]
    },
    {
      "cell_type": "code",
      "execution_count": null,
      "metadata": {
        "id": "ldkY6hwVeb81"
      },
      "outputs": [],
      "source": [
        "tf_idf_matrix = tf_matrix.copy()\n",
        "\n",
        "for key in sorted([key for key in IDF_dict if isinstance(key, int)]):\n",
        "    if not isinstance(key, int):\n",
        "        print(key, \" is not int\")\n",
        "        continue\n",
        "    tf_idf_matrix[:, key] = tf_idf_matrix[:, key] * IDF_dict[key]\n",
        "\n",
        "with open(\"tf_idf_matrix.pkl\", \"wb\") as fp:\n",
        "    pickle.dump(tf_idf_matrix, fp)"
      ]
    },
    {
      "cell_type": "code",
      "execution_count": null,
      "metadata": {
        "id": "efL2-2WXWlAa"
      },
      "outputs": [],
      "source": [
        "#@title\n",
        "with open(\"DF_dict.pkl\", \"rb\") as fp:\n",
        "    DF_dict = pickle.load(fp)\n",
        "with open(\"tf.pkl\", \"rb\") as fp:\n",
        "    tf_matrix = pickle.load(fp)\n",
        "with open(\"IDF_dict.pkl\", \"rb\") as fp:\n",
        "    IDF_dict = pickle.load(fp)\n",
        "with open(\"tf_idf_matrix.pkl\", \"rb\") as fp:\n",
        "    tf_idf_matrix = pickle.load(fp)"
      ]
    },
    {
      "cell_type": "code",
      "execution_count": null,
      "metadata": {
        "id": "ZABDiTMmWlAb",
        "outputId": "03cf1021-7943-4cc8-96be-246546953e5a"
      },
      "outputs": [
        {
          "data": {
            "text/plain": [
              "(11314, 30488)"
            ]
          },
          "execution_count": 414,
          "metadata": {},
          "output_type": "execute_result"
        }
      ],
      "source": [
        "tf_idf_matrix.shape"
      ]
    },
    {
      "cell_type": "code",
      "execution_count": null,
      "metadata": {
        "id": "cNlBewmYWlAb"
      },
      "outputs": [],
      "source": [
        "def false_positive_probability(threshold, b, r):\n",
        "  _prob = lambda t : 1 - (1 - t**float(r))**float(b)\n",
        "  a, err = integrate(_prob, 0.0, threshold)\n",
        "  return a\n",
        "\n",
        "\n",
        "def false_negative_probability(threshold, b, r):\n",
        "  _prob = lambda t : (1 - t**float(r))**float(b)\n",
        "  a, err = integrate(_prob, threshold, 1.0)\n",
        "  return a"
      ]
    },
    {
      "cell_type": "code",
      "execution_count": null,
      "metadata": {
        "id": "6TxjyL5wWlAb",
        "outputId": "343cf84c-30bd-48ac-e16c-0053ef155016"
      },
      "outputs": [
        {
          "name": "stdout",
          "output_type": "stream",
          "text": [
            "4 bands, Threshold 0.5, False positive rate for 8 rows: 0.0008653675929177837 False negative rate for 8 rows: 0.27966512992209186\n",
            "4 bands, Threshold 0.5, False positive rate for 16 rows: 1.7951304881352454e-06 False negative rate for 16 rows: 0.38027782162500207\n",
            "4 bands, Threshold 0.5, False positive rate for 32 rows: 1.4110941623506033e-11 False negative rate for 32 rows: 0.43761039569211635\n",
            "4 bands, Threshold 0.5, False positive rate for 128 rows: 0.0 False negative rate for 128 rows: 0.48389825891314203\n",
            "8 bands, Threshold 0.5, False positive rate for 8 rows: 0.0017236115604108916 False negative rate for 8 rows: 0.221714318496674\n",
            "8 bands, Threshold 0.5, False positive rate for 16 rows: 3.5902045342038246e-06 False negative rate for 16 rows: 0.34622338439177913\n",
            "8 bands, Threshold 0.5, False positive rate for 32 rows: 2.8221883247012066e-11 False negative rate for 32 rows: 0.41924818793790725\n",
            "8 bands, Threshold 0.5, False positive rate for 128 rows: 0.0 False negative rate for 128 rows: 0.4790360296063269\n",
            "16 bands, Threshold 0.5, False positive rate for 8 rows: 0.0034190288722882834 False negative rate for 8 rows: 0.1664493874074326\n",
            "16 bands, Threshold 0.5, False positive rate for 16 rows: 7.180183309481201e-06 False negative rate for 16 rows: 0.31197475728086815\n",
            "16 bands, Threshold 0.5, False positive rate for 32 rows: 5.644376649402413e-11 False negative rate for 32 rows: 0.4004270469737184\n",
            "16 bands, Threshold 0.5, False positive rate for 128 rows: 0.0 False negative rate for 128 rows: 0.4739807059629791\n",
            "32 bands, Threshold 0.5, False positive rate for 8 rows: 0.006727633763731177 False negative rate for 8 rows: 0.11604063523714629\n",
            "32 bands, Threshold 0.5, False positive rate for 16 rows: 1.4359463657474318e-05 False negative rate for 16 rows: 0.27835024079847126\n",
            "32 bands, Threshold 0.5, False positive rate for 32 rows: 1.1288753298804826e-10 False negative rate for 32 rows: 0.3815691994960908\n",
            "32 bands, Threshold 0.5, False positive rate for 128 rows: 0.0 False negative rate for 128 rows: 0.46883794236101956\n",
            "64 bands, Threshold 0.5, False positive rate for 8 rows: 0.013031640296359939 False negative rate for 8 rows: 0.07238234019618713\n",
            "64 bands, Threshold 0.5, False positive rate for 16 rows: 2.8715316062799114e-05 False negative rate for 16 rows: 0.2457490963866489\n",
            "64 bands, Threshold 0.5, False positive rate for 32 rows: 2.257750656515051e-10 False negative rate for 32 rows: 0.36289441242738213\n",
            "64 bands, Threshold 0.5, False positive rate for 128 rows: 0.0 False negative rate for 128 rows: 0.46366446390124294\n",
            "4 bands, Threshold 0.7, False positive rate for 8 rows: 0.01713511039692603 False negative rate for 8 rows: 0.09593487272610023\n",
            "4 bands, Threshold 0.7, False positive rate for 16 rows: 0.0005459623760639951 False negative rate for 16 rows: 0.18082198887057793\n",
            "4 bands, Threshold 0.7, False positive rate for 32 rows: 9.370822663415545e-07 False negative rate for 32 rows: 0.23761133276027174\n",
            "4 bands, Threshold 0.7, False positive rate for 128 rows: 0.0 False negative rate for 128 rows: 0.28389825891314213\n",
            "8 bands, Threshold 0.7, False positive rate for 8 rows: 0.032322906029218765 False negative rate for 8 rows: 0.052313612965481954\n",
            "8 bands, Threshold 0.7, False positive rate for 16 rows: 0.0010882014704324328 False negative rate for 16 rows: 0.1473079956576773\n",
            "8 bands, Threshold 0.7, False positive rate for 32 rows: 1.8741435157390013e-06 False negative rate for 32 rows: 0.21925006205320102\n",
            "8 bands, Threshold 0.7, False positive rate for 128 rows: 0.0 False negative rate for 128 rows: 0.27903602960632695\n",
            "16 bands, Threshold 0.7, False positive rate for 8 rows: 0.05793994908774782 False negative rate for 8 rows: 0.020970307622892315\n",
            "16 bands, Threshold 0.7, False positive rate for 16 rows: 0.002161642208060091 False negative rate for 16 rows: 0.11412921930561876\n",
            "16 bands, Threshold 0.7, False positive rate for 32 rows: 3.74820296618894e-06 False negative rate for 32 rows: 0.2004307951202409\n",
            "16 bands, Threshold 0.7, False positive rate for 128 rows: 0.0 False negative rate for 128 rows: 0.2739807059629803\n",
            "32 bands, Threshold 0.7, False positive rate for 8 rows: 0.09557765061502334 False negative rate for 8 rows: 0.004890652088438464\n",
            "32 bands, Threshold 0.7, False positive rate for 16 rows: 0.004265282299681457 False negative rate for 16 rows: 0.08260116363449521\n",
            "32 bands, Threshold 0.7, False positive rate for 32 rows: 7.496069691115466e-06 False negative rate for 32 rows: 0.18157669545289443\n",
            "32 bands, Threshold 0.7, False positive rate for 128 rows: 0.0 False negative rate for 128 rows: 0.26883794236101954\n",
            "64 bands, Threshold 0.7, False positive rate for 8 rows: 0.14106515311102863 False negative rate for 8 rows: 0.0004158530108558963\n",
            "64 bands, Threshold 0.7, False positive rate for 16 rows: 0.008306598429707894 False negative rate for 16 rows: 0.05402697950029357\n",
            "64 bands, Threshold 0.7, False positive rate for 32 rows: 1.4990794576460484e-05 False negative rate for 32 rows: 0.1629094029961836\n",
            "64 bands, Threshold 0.7, False positive rate for 128 rows: 0.0 False negative rate for 128 rows: 0.26366446390124293\n",
            "4 bands, Threshold 0.9, False positive rate for 8 rows: 0.12387615128641266 False negative rate for 8 rows: 0.002675913615586769\n",
            "4 bands, Threshold 0.9, False positive rate for 16 rows: 0.03407280991921517 False negative rate for 16 rows: 0.014348836413729056\n",
            "4 bands, Threshold 0.9, False positive rate for 32 rows: 0.003649380461163074 False negative rate for 32 rows: 0.04125977613916846\n",
            "4 bands, Threshold 0.9, False positive rate for 128 rows: 3.8793015868761146e-08 False negative rate for 128 rows: 0.08389829770615792\n",
            "8 bands, Threshold 0.9, False positive rate for 8 rows: 0.18017485630554647 False negative rate for 8 rows: 0.00016556324180953076\n",
            "8 bands, Threshold 0.9, False positive rate for 16 rows: 0.05778762282505976 False negative rate for 16 rows: 0.004007417012304608\n",
            "8 bands, Threshold 0.9, False positive rate for 32 rows: 0.007054948118240259 False negative rate for 32 rows: 0.026303136027925462\n",
            "8 bands, Threshold 0.9, False positive rate for 128 rows: 7.758592346580016e-08 False negative rate for 128 rows: 0.07903610719225032\n",
            "16 bands, Threshold 0.9, False positive rate for 8 rows: 0.23697065303589024 False negative rate for 8 rows: 1.0115710345150572e-06\n",
            "16 bands, Threshold 0.9, False positive rate for 16 rows: 0.08849045298327231 False negative rate for 16 rows: 0.00045803008083082056\n",
            "16 bands, Threshold 0.9, False positive rate for 32 rows: 0.013218167621022665 False negative rate for 32 rows: 0.013645214538297189\n",
            "16 bands, Threshold 0.9, False positive rate for 128 rows: 1.5517141385039318e-07 False negative rate for 128 rows: 0.07398086113439414\n",
            "32 bands, Threshold 0.9, False positive rate for 8 rows: 0.2906869985921623 False negative rate for 8 rows: 6.557745955164902e-11\n",
            "32 bands, Threshold 0.9, False positive rate for 16 rows: 0.1216736972116534 False negative rate for 16 rows: 9.57854646696869e-06\n",
            "32 bands, Threshold 0.9, False positive rate for 32 rows: 0.023431394797337763 False negative rate for 32 rows: 0.0050005941805401875\n",
            "32 bands, Threshold 0.9, False positive rate for 128 rows: 3.1034109538934665e-07 False negative rate for 128 rows: 0.06883825270211494\n",
            "64 bands, Threshold 0.9, False positive rate for 8 rows: 0.34064930010017264 False negative rate for 8 rows: 5.076956192143433e-19\n",
            "64 bands, Threshold 0.9, False positive rate for 16 rows: 0.15427962616057125 False negative rate for 16 rows: 7.231156907041008e-09\n",
            "64 bands, Threshold 0.9, False positive rate for 32 rows: 0.038086448781259385 False negative rate for 32 rows: 0.0009808609828662837\n",
            "64 bands, Threshold 0.9, False positive rate for 128 rows: 6.206752616381821e-07 False negative rate for 128 rows: 0.06366508457650485\n",
            "min error for 0.5: (64, 8) 0.08541398049254706max error for 0.5:  (4, 128), 0.48389825891314203 \n",
            "min error for 0.7: (64, 16) 0.062333577930001466max error for 0.7:  (4, 128), 0.28389825891314213 \n",
            "min error for 0.9: (16, 32) 0.026863382159319854max error for 0.9:  (64, 8), 0.34064930010017264 \n",
            "\n"
          ]
        }
      ],
      "source": [
        "output_error = ''\n",
        "for i in [0.5, 0.7, 0.9]:\n",
        "    error = dict()\n",
        "    for j in [4, 8, 16,32, 64]:\n",
        "        for k in [8,16,32,128]:\n",
        "            print(f'{j} bands, Threshold {i}, False positive rate for {k} rows: {false_positive_probability(i, j, k)}', f'False negative rate for {k} rows: {false_negative_probability(i, j, k)}')\n",
        "            error[(j,k)] = false_positive_probability(i, j, k) + false_negative_probability(i, j, k)\n",
        "\n",
        "    output_error = output_error + f'min error for {i}: {min(error, key=error.get)} {error[min(error, key=error.get)]}'  + f'max error for {i}:  {max(error, key=error.get)}, {error[max(error, key=error.get)]} \\n'\n",
        "print(output_error)\n"
      ]
    },
    {
      "cell_type": "code",
      "execution_count": null,
      "metadata": {
        "id": "BUOztbP3WlAc",
        "outputId": "6e10c85d-d4f6-48d2-84f8-308ce70002f0"
      },
      "outputs": [
        {
          "name": "stdout",
          "output_type": "stream",
          "text": [
            "4 bands, Threshold 0.5, False positive rate for 8 rows: 0.0008653675929177837 False negative rate for 8 rows: 0.27966512992209186\n",
            "4 bands, Threshold 0.5, False positive rate for 16 rows: 1.7951304881352454e-06 False negative rate for 16 rows: 0.38027782162500207\n",
            "4 bands, Threshold 0.5, False positive rate for 32 rows: 1.4110941623506033e-11 False negative rate for 32 rows: 0.43761039569211635\n",
            "4 bands, Threshold 0.5, False positive rate for 128 rows: 0.0 False negative rate for 128 rows: 0.48389825891314203\n",
            "8 bands, Threshold 0.5, False positive rate for 8 rows: 0.0017236115604108916 False negative rate for 8 rows: 0.221714318496674\n",
            "8 bands, Threshold 0.5, False positive rate for 16 rows: 3.5902045342038246e-06 False negative rate for 16 rows: 0.34622338439177913\n",
            "8 bands, Threshold 0.5, False positive rate for 32 rows: 2.8221883247012066e-11 False negative rate for 32 rows: 0.41924818793790725\n",
            "8 bands, Threshold 0.5, False positive rate for 128 rows: 0.0 False negative rate for 128 rows: 0.4790360296063269\n",
            "16 bands, Threshold 0.5, False positive rate for 8 rows: 0.0034190288722882834 False negative rate for 8 rows: 0.1664493874074326\n",
            "16 bands, Threshold 0.5, False positive rate for 16 rows: 7.180183309481201e-06 False negative rate for 16 rows: 0.31197475728086815\n",
            "16 bands, Threshold 0.5, False positive rate for 32 rows: 5.644376649402413e-11 False negative rate for 32 rows: 0.4004270469737184\n",
            "16 bands, Threshold 0.5, False positive rate for 128 rows: 0.0 False negative rate for 128 rows: 0.4739807059629791\n",
            "32 bands, Threshold 0.5, False positive rate for 8 rows: 0.006727633763731177 False negative rate for 8 rows: 0.11604063523714629\n",
            "32 bands, Threshold 0.5, False positive rate for 16 rows: 1.4359463657474318e-05 False negative rate for 16 rows: 0.27835024079847126\n",
            "32 bands, Threshold 0.5, False positive rate for 32 rows: 1.1288753298804826e-10 False negative rate for 32 rows: 0.3815691994960908\n",
            "32 bands, Threshold 0.5, False positive rate for 128 rows: 0.0 False negative rate for 128 rows: 0.46883794236101956\n",
            "64 bands, Threshold 0.5, False positive rate for 8 rows: 0.013031640296359939 False negative rate for 8 rows: 0.07238234019618713\n",
            "64 bands, Threshold 0.5, False positive rate for 16 rows: 2.8715316062799114e-05 False negative rate for 16 rows: 0.2457490963866489\n",
            "64 bands, Threshold 0.5, False positive rate for 32 rows: 2.257750656515051e-10 False negative rate for 32 rows: 0.36289441242738213\n",
            "64 bands, Threshold 0.5, False positive rate for 128 rows: 0.0 False negative rate for 128 rows: 0.46366446390124294\n",
            "4 bands, Threshold 0.7, False positive rate for 8 rows: 0.01713511039692603 False negative rate for 8 rows: 0.09593487272610023\n",
            "4 bands, Threshold 0.7, False positive rate for 16 rows: 0.0005459623760639951 False negative rate for 16 rows: 0.18082198887057793\n",
            "4 bands, Threshold 0.7, False positive rate for 32 rows: 9.370822663415545e-07 False negative rate for 32 rows: 0.23761133276027174\n",
            "4 bands, Threshold 0.7, False positive rate for 128 rows: 0.0 False negative rate for 128 rows: 0.28389825891314213\n",
            "8 bands, Threshold 0.7, False positive rate for 8 rows: 0.032322906029218765 False negative rate for 8 rows: 0.052313612965481954\n",
            "8 bands, Threshold 0.7, False positive rate for 16 rows: 0.0010882014704324328 False negative rate for 16 rows: 0.1473079956576773\n",
            "8 bands, Threshold 0.7, False positive rate for 32 rows: 1.8741435157390013e-06 False negative rate for 32 rows: 0.21925006205320102\n",
            "8 bands, Threshold 0.7, False positive rate for 128 rows: 0.0 False negative rate for 128 rows: 0.27903602960632695\n",
            "16 bands, Threshold 0.7, False positive rate for 8 rows: 0.05793994908774782 False negative rate for 8 rows: 0.020970307622892315\n",
            "16 bands, Threshold 0.7, False positive rate for 16 rows: 0.002161642208060091 False negative rate for 16 rows: 0.11412921930561876\n",
            "16 bands, Threshold 0.7, False positive rate for 32 rows: 3.74820296618894e-06 False negative rate for 32 rows: 0.2004307951202409\n",
            "16 bands, Threshold 0.7, False positive rate for 128 rows: 0.0 False negative rate for 128 rows: 0.2739807059629803\n",
            "32 bands, Threshold 0.7, False positive rate for 8 rows: 0.09557765061502334 False negative rate for 8 rows: 0.004890652088438464\n",
            "32 bands, Threshold 0.7, False positive rate for 16 rows: 0.004265282299681457 False negative rate for 16 rows: 0.08260116363449521\n",
            "32 bands, Threshold 0.7, False positive rate for 32 rows: 7.496069691115466e-06 False negative rate for 32 rows: 0.18157669545289443\n",
            "32 bands, Threshold 0.7, False positive rate for 128 rows: 0.0 False negative rate for 128 rows: 0.26883794236101954\n",
            "64 bands, Threshold 0.7, False positive rate for 8 rows: 0.14106515311102863 False negative rate for 8 rows: 0.0004158530108558963\n",
            "64 bands, Threshold 0.7, False positive rate for 16 rows: 0.008306598429707894 False negative rate for 16 rows: 0.05402697950029357\n",
            "64 bands, Threshold 0.7, False positive rate for 32 rows: 1.4990794576460484e-05 False negative rate for 32 rows: 0.1629094029961836\n",
            "64 bands, Threshold 0.7, False positive rate for 128 rows: 0.0 False negative rate for 128 rows: 0.26366446390124293\n",
            "4 bands, Threshold 0.9, False positive rate for 8 rows: 0.12387615128641266 False negative rate for 8 rows: 0.002675913615586769\n",
            "4 bands, Threshold 0.9, False positive rate for 16 rows: 0.03407280991921517 False negative rate for 16 rows: 0.014348836413729056\n",
            "4 bands, Threshold 0.9, False positive rate for 32 rows: 0.003649380461163074 False negative rate for 32 rows: 0.04125977613916846\n",
            "4 bands, Threshold 0.9, False positive rate for 128 rows: 3.8793015868761146e-08 False negative rate for 128 rows: 0.08389829770615792\n",
            "8 bands, Threshold 0.9, False positive rate for 8 rows: 0.18017485630554647 False negative rate for 8 rows: 0.00016556324180953076\n",
            "8 bands, Threshold 0.9, False positive rate for 16 rows: 0.05778762282505976 False negative rate for 16 rows: 0.004007417012304608\n",
            "8 bands, Threshold 0.9, False positive rate for 32 rows: 0.007054948118240259 False negative rate for 32 rows: 0.026303136027925462\n",
            "8 bands, Threshold 0.9, False positive rate for 128 rows: 7.758592346580016e-08 False negative rate for 128 rows: 0.07903610719225032\n",
            "16 bands, Threshold 0.9, False positive rate for 8 rows: 0.23697065303589024 False negative rate for 8 rows: 1.0115710345150572e-06\n",
            "16 bands, Threshold 0.9, False positive rate for 16 rows: 0.08849045298327231 False negative rate for 16 rows: 0.00045803008083082056\n",
            "16 bands, Threshold 0.9, False positive rate for 32 rows: 0.013218167621022665 False negative rate for 32 rows: 0.013645214538297189\n",
            "16 bands, Threshold 0.9, False positive rate for 128 rows: 1.5517141385039318e-07 False negative rate for 128 rows: 0.07398086113439414\n",
            "32 bands, Threshold 0.9, False positive rate for 8 rows: 0.2906869985921623 False negative rate for 8 rows: 6.557745955164902e-11\n",
            "32 bands, Threshold 0.9, False positive rate for 16 rows: 0.1216736972116534 False negative rate for 16 rows: 9.57854646696869e-06\n",
            "32 bands, Threshold 0.9, False positive rate for 32 rows: 0.023431394797337763 False negative rate for 32 rows: 0.0050005941805401875\n",
            "32 bands, Threshold 0.9, False positive rate for 128 rows: 3.1034109538934665e-07 False negative rate for 128 rows: 0.06883825270211494\n",
            "64 bands, Threshold 0.9, False positive rate for 8 rows: 0.34064930010017264 False negative rate for 8 rows: 5.076956192143433e-19\n",
            "64 bands, Threshold 0.9, False positive rate for 16 rows: 0.15427962616057125 False negative rate for 16 rows: 7.231156907041008e-09\n",
            "64 bands, Threshold 0.9, False positive rate for 32 rows: 0.038086448781259385 False negative rate for 32 rows: 0.0009808609828662837\n",
            "64 bands, Threshold 0.9, False positive rate for 128 rows: 6.206752616381821e-07 False negative rate for 128 rows: 0.06366508457650485\n",
            "min error for 0.5: (64, 8) 0.08541398049254706max error for 0.5:  (4, 128), 0.48389825891314203 \n",
            "min error for 0.7: (64, 16) 0.062333577930001466max error for 0.7:  (4, 128), 0.28389825891314213 \n",
            "min error for 0.9: (16, 32) 0.026863382159319854max error for 0.9:  (64, 8), 0.34064930010017264 \n",
            "\n"
          ]
        }
      ],
      "source": [
        "output_error = ''\n",
        "for i in [0.5, 0.7, 0.9]:\n",
        "    error = dict()\n",
        "    for j in [4, 8, 16,32, 64]:\n",
        "        for k in [8,16,32,128]:\n",
        "            print(f'{j} bands, Threshold {i}, False positive rate for {k} rows: {false_positive_probability(i, j, k)}',\n",
        "                  f'False negative rate for {k} rows: {false_negative_probability(i, j, k)}')\n",
        "            error[(j,k)] = false_positive_probability(i, j, k) + false_negative_probability(i, j, k)\n",
        "\n",
        "    output_error = output_error + f'min error for {i}: {min(error, key=error.get)} {error[min(error, key=error.get)]}'  + f'max error for {i}:  {max(error, key=error.get)}, {error[max(error, key=error.get)]} \\n'\n",
        "print(output_error)"
      ]
    },
    {
      "cell_type": "code",
      "execution_count": null,
      "metadata": {
        "id": "OnUtO9zCWlAc"
      },
      "outputs": [],
      "source": [
        "def h(s, r, b):\n",
        "    return 1 - np.power(1 - np.power(s, r), b)\n",
        "\n",
        "\n",
        "def graph(thresh, r, b):\n",
        "    x = np.linspace(0, 1, 1000)\n",
        "    y = h(x, r, b)\n",
        "    y_line = np.linspace(0.0, 1.0, 100)\n",
        "    x_line = np.full_like(y_line, thresh)\n",
        "\n",
        "    fn = false_negative_probability(thresh, b, r)\n",
        "    fp = false_positive_probability(thresh, b, r)\n",
        "\n",
        "    fig, ax = plt.subplots()\n",
        "    plt.plot(x, y, label=f\"r={r}, b={b}\")\n",
        "    plt.plot(x_line, y_line, color=\"red\")\n",
        "    plt.fill_between(\n",
        "        x, y, 0, where=(x <= thresh), interpolate=True, facecolor=\"lightgreen\"\n",
        "    )\n",
        "    plt.fill_between(\n",
        "        x, y, 1, where=(x >= thresh), interpolate=True, facecolor=\"lightblue\"\n",
        "    )\n",
        "\n",
        "    plt.text(\n",
        "        0.01,\n",
        "        0.1,\n",
        "        f\"Prob(FN)={fn:0.05f}\\nProb(FP)={fp:0.05f}\",\n",
        "        fontsize=10,\n",
        "        bbox=dict(facecolor=\"white\", alpha=0.5),\n",
        "    )\n",
        "    plt.legend()\n",
        "    ax.set_xlabel(\"Similarity\")\n",
        "    ax.set_ylabel(\"Probability of sharing a basket\")\n",
        "    ax.set_title(\"S-curve Plot\")\n",
        "    plt.show()"
      ]
    },
    {
      "cell_type": "code",
      "execution_count": null,
      "metadata": {
        "id": "Xj1nL1LAWlAc",
        "outputId": "2f164344-c55c-4e02-9101-49e756fc5695"
      },
      "outputs": [
        {
          "data": {
            "image/png": "[encoded data removed]",
            "text/plain": [
              "<Figure size 640x480 with 1 Axes>"
            ]
          },
          "metadata": {},
          "output_type": "display_data"
        },
        {
          "data": {
            "image/png": "[encoded data removed]",
            "text/plain": [
              "<Figure size 640x480 with 1 Axes>"
            ]
          },
          "metadata": {},
          "output_type": "display_data"
        },
        {
          "data": {
            "image/png": "[encoded data removed]",
            "text/plain": [
              "<Figure size 640x480 with 1 Axes>"
            ]
          },
          "metadata": {},
          "output_type": "display_data"
        }
      ],
      "source": [
        "graph(0.5, 8,64)\n",
        "graph(0.7, 16,64,)\n",
        "graph(0.9, 32,16)"
      ]
    },
    {
      "cell_type": "code",
      "execution_count": null,
      "metadata": {
        "id": "BOBrIMG_WlAd"
      },
      "outputs": [],
      "source": [
        "def get_optimal(alpha, beta, threshold, num_hash_bits=1024):\n",
        "\n",
        "    minimum = 1000000\n",
        "    optimal_b = []\n",
        "    optimal_r = []\n",
        "    for r in range(1, num_hash_bits+1):\n",
        "        for b in range(1, num_hash_bits+1):\n",
        "          if r*b <= num_hash_bits:\n",
        "              err = false_negative_probability(threshold, r, b)*alpha + false_positive_probability(threshold, r, b)*beta\n",
        "              if err <= minimum:\n",
        "                minimum = err\n",
        "                optimal_b = b\n",
        "                optimal_r = r\n",
        "\n",
        "    return optimal_b, optimal_r, minimum"
      ]
    },
    {
      "cell_type": "markdown",
      "metadata": {
        "id": "gJy9wC6nefn5"
      },
      "source": [
        "# 2 (Ian Liu)"
      ]
    },
    {
      "cell_type": "code",
      "execution_count": null,
      "metadata": {
        "id": "otgnjmWteb82"
      },
      "outputs": [],
      "source": [
        "def get_hash_val(tf_idf_vector, ref_planes) -> int:\n",
        "    \"\"\"Returns hash value for a given ref_plane and TF_IDF vector.\n",
        "    The hash value returned here is not in binary format, if you woud like to use binary format,\n",
        "    then you should use the bin function like bin(sig). (The signatures should be the same regardless if it's in binary format or not.)\n",
        "\n",
        "\n",
        "    Parameters\n",
        "    ----------\n",
        "    tf_idf_vector : list or np.ndarray\n",
        "        Dimension should be 1xn\n",
        "    ref_planes: list or np.ndarray\n",
        "\n",
        "\n",
        "    Returns\n",
        "    -------\n",
        "    int\n",
        "    \"\"\"\n",
        "    # signature bits for two data points\n",
        "    sig = signature_bit(tf_idf_vector, ref_planes)\n",
        "    return sig"
      ]
    },
    {
      "cell_type": "code",
      "execution_count": null,
      "metadata": {
        "id": "H-jRuqBNefn6"
      },
      "outputs": [],
      "source": [
        "def save_hash_value(tf_idf_matrix: np.ndarray, num_bands: int, num_rows: int, save_ref_plane=True):\n",
        "    \"\"\"_summary_\n",
        "\n",
        "    Parameters\n",
        "    ----------\n",
        "    tf_idf_matrix : np.ndarray\n",
        "    num_bands : int\n",
        "    num_rows : int\n",
        "    save_ref_plane : bool, optional\n",
        "        Whether or not to save the ref planes in a dictionary, by default True\n",
        "\n",
        "    Returns\n",
        "    -------\n",
        "    _type_\n",
        "        _description_\n",
        "    \"\"\"\n",
        "    hashed_dictionaries = []\n",
        "    if save_ref_plane:\n",
        "        all_ref_planes = []\n",
        "    for _ in range(num_bands):\n",
        "        new_dict = dict()\n",
        "\n",
        "        # reference planes as many as bits (= signature bits)\n",
        "        ref_planes = np.random.randn(num_rows, tf_idf_matrix.shape[1])\n",
        "        if save_ref_plane:\n",
        "            all_ref_planes.append(ref_planes)\n",
        "\n",
        "        for doc_id, doc_vector in enumerate(tf_idf_matrix):\n",
        "            hash_val = get_hash_val(doc_vector, ref_planes=ref_planes)\n",
        "\n",
        "            if new_dict.get(hash_val) is None:\n",
        "                new_dict[hash_val] = [doc_id]\n",
        "            else:\n",
        "                new_dict[hash_val].append(doc_id)\n",
        "        hashed_dictionaries.append(new_dict)\n",
        "\n",
        "    if not save_ref_plane:\n",
        "        return hashed_dictionaries\n",
        "    return hashed_dictionaries, all_ref_planes"
      ]
    },
    {
      "cell_type": "code",
      "execution_count": null,
      "metadata": {
        "id": "-wCRnGbuWlAd"
      },
      "outputs": [],
      "source": [
        "all_lsh_buckets = []\n",
        "all_ref_planes = []\n",
        "for i in [16,64]:\n",
        "    for j in tqdm([8,16,32, 64, 128]):\n",
        "        lsh_buckets, ref_planes = save_hash_value(tf_idf_matrix, num_bands= i, num_rows= j)\n",
        "        all_lsh_buckets.append(lsh_buckets)\n",
        "        all_ref_planes.append(ref_planes)\n",
        "\n",
        "        with open(f'{i}bands{j}rows_lsh_buckets.pkl', 'wb') as fp:\n",
        "            pickle.dump(lsh_buckets, fp)\n",
        "        with open(f'{i}bands{j}rows_ref_planes.pkl', 'wb') as fp:\n",
        "            pickle.dump(ref_planes, fp)"
      ]
    },
    {
      "cell_type": "code",
      "execution_count": null,
      "metadata": {
        "id": "fy6TFOyVefn7"
      },
      "outputs": [],
      "source": [
        "#@title\n",
        "with open('all_lsh_buckets.pkl', 'wb') as fp:\n",
        "    pickle.dump(all_lsh_buckets, fp)\n",
        "with open('all_ref_planes.pkl', 'wb') as fp:\n",
        "    pickle.dump(all_ref_planes, fp)"
      ]
    },
    {
      "cell_type": "markdown",
      "metadata": {
        "id": "ieGdj9pmcQUE"
      },
      "source": [
        "# 3 Ian Shyue"
      ]
    },
    {
      "cell_type": "markdown",
      "metadata": {
        "id": "wEFplNeBhh9Z"
      },
      "source": [
        "3. For query, you are given an article and cosine similarity threshold, you want to return top_n articles that have cosine similarity >= threshold and list them in descending order of similarity with options to print ID only or to print the first N characters from each article. Generally, you compute 16 hash values (assuming you have 16 bands)  candidates are found in 16 dictionaries with these 16 hash values as keys. If no key exists in any of the dictionaries then there is no match. If two dictionaries have matching keys then you combine two lists as candidates. Then you do validation to make sure the similarity is above the threshold.\n",
        "\n",
        "Alternatively, you can use just one big dictionary. In this case, a hash value 01011101011110111 from band 1 will be converted to a string for dictionary key: \"01011101011110111b1\" with \"b1\" indicating band 1, so only band 1 hash can possibly get the same key.\n",
        "\n",
        "Note: You need to complete the code with the required functionality, and write a full project report explaining what you are doing with the code as an appendix. You need to demonstrate with some example query articles/ query strings. In your report, you need to compute what is your TPR, and FNR for a few sets of typical values of num_bands, num_rows, and similarity thresholds, plus corresponding example queries."
      ]
    },
    {
      "cell_type": "code",
      "execution_count": null,
      "metadata": {
        "id": "mf2l6pP2FBPL",
        "cellView": "form"
      },
      "outputs": [],
      "source": [
        "#@title\n",
        "with open('/content/gdrive/MyDrive/Data Mining Group Project Cosine LSH/tf.pkl', 'rb') as fp:\n",
        "    tf_matrix = pickle.load(fp)\n",
        "with open('/content/gdrive/Shareddrives/FTCM/Data Mining/Ian Liu HW + Projects/Data Mining Group Project Cosine LSH/lsh_buckets.pkl', 'rb') as fp:\n",
        "    lsh_buckets = pickle.load(fp)\n",
        "with open('/content/gdrive/Shareddrives/FTCM/Data Mining/Ian Liu HW + Projects/Data Mining Group Project Cosine LSH/idf_dict.pkl', 'rb') as fp:\n",
        "    IDF_dict = pickle.load(fp)\n",
        "with open('/content/gdrive/Shareddrives/FTCM/Data Mining/Ian Liu HW + Projects/Data Mining Group Project Cosine LSH/df_dict.pkl', 'rb') as fp:\n",
        "    DF_dict = pickle.load(fp)\n",
        "\n",
        "\n",
        "# READ ALL VARIABLES\n",
        "\n",
        "with open('/content/gdrive/MyDrive/Data Mining Group Project Cosine LSH/lsh_buckets.pkl', 'rb') as fp:\n",
        "    lsh_buckets = pickle.load(fp)\n",
        "with open('/content/gdrive/MyDrive/Data Mining Group Project Cosine LSH/idf_dict.pkl', 'rb') as fp:\n",
        "    IDF_dict = pickle.load(fp)\n",
        "with open('/content/gdrive/MyDrive/Data Mining Group Project Cosine LSH/df_dict.pkl', 'rb') as fp:\n",
        "    DF_dict = pickle.load(fp)\n",
        "\n",
        "\n",
        "## THIS MIGHT NOT BE NECESSARY, MIGHT WASTE RAM\n",
        "# with open('/content/gdrive/MyDrive/Data Mining Group Project Cosine LSH/tf_idf_matrix.pkl', 'rb') as fp:\n",
        "#     final_tf_idf_matrix = pickle.load(fp)"
      ]
    },
    {
      "cell_type": "code",
      "execution_count": null,
      "metadata": {
        "id": "dKLDXb4ucN4T"
      },
      "outputs": [],
      "source": [
        "def top_n(\n",
        "    document: str, n: int, similarity_threshold: float,\n",
        "    planes: list, unique_word_list: list, lsh_buckets: list,\n",
        "    return_all_bool: bool = False, print_first_n_char: int = 0,):\n",
        "    \"\"\"\n",
        "    Takes a document and cleans it using clean()\n",
        "\n",
        "    Remove any word thats not in unique_word_list\n",
        "\n",
        "    Sorts the cleaned document according to unique_word_list alphabetically\n",
        "\n",
        "    Computes TF-IDF on the cleaned document\n",
        "\n",
        "    Computes hash using planes\n",
        "\n",
        "    Select candidate documents\n",
        "\n",
        "    Find similarity\n",
        "    \"\"\"\n",
        "\n",
        "    TF_IDF = tf_of_docs(\n",
        "        [document], unique_word_list, word_to_index_mapper=word_to_index_mapping\n",
        "    )\n",
        "\n",
        "    for key in sorted([key for key in IDF_dict if isinstance(key, int)]):\n",
        "        if not isinstance(key, int):\n",
        "            print(key, \" is not int\")\n",
        "            continue\n",
        "        TF_IDF[:, key] = TF_IDF[:, key] * IDF_dict[key]\n",
        "\n",
        "    similar_doc_list = list()\n",
        "\n",
        "    rows = len(planes[0])\n",
        "\n",
        "    for plane in planes:\n",
        "        hashed = signature_bit(TF_IDF, plane)\n",
        "        for band in lsh_buckets:  # dictionary {hash: docID's}\n",
        "            if hashed in band.keys():\n",
        "                for doc in band[hashed]:\n",
        "                    similar_doc_list.append(doc)\n",
        "\n",
        "    similar_doc_list = set(similar_doc_list)\n",
        "\n",
        "    tf_vectors_dict = {i: tf_idf_matrix[int(i), :] for i in similar_doc_list}\n",
        "\n",
        "    ref_planes = np.random.randn(rows, TF_IDF.shape[1])\n",
        "\n",
        "    cosine_hash_dict = dict()\n",
        "\n",
        "    bits = len(ref_planes)\n",
        "\n",
        "    # rehash the candidate list and new document then compute cos sim\n",
        "    sig1 = signature_bit(TF_IDF, ref_planes)\n",
        "    for key, doc_vector in tf_vectors_dict.items():\n",
        "        sig2 = signature_bit(doc_vector, ref_planes)\n",
        "        cosine_hash_dict[key] = 1 - bitcount(sig1 ^ sig2) / bits\n",
        "\n",
        "    if return_all_bool: all_results = cosine_hash_dict.copy()\n",
        "    keys = [k for k, v in cosine_hash_dict.items() if v < similarity_threshold]\n",
        "    for x in keys:\n",
        "        similar_doc_list.remove(x)\n",
        "        del cosine_hash_dict[x]\n",
        "\n",
        "    ids = set(tf_vectors_dict.keys()).intersection(\n",
        "        set(cosine_hash_dict.keys())\n",
        "    )  # only gets keys of vectors that passed the similarity threshold test\n",
        "    top_n_doc_ids = sorted(\n",
        "        ids, key=lambda ele: cosine_hash_dict.get(ele), reverse=True\n",
        "    )[:n]\n",
        "    top_n_doc_similarities = [cosine_hash_dict[doc_id] for doc_id in top_n_doc_ids]\n",
        "\n",
        "    if print_first_n_char > 0:\n",
        "        print(f\"First {print_first_n_char} characters of nput document:\", document[:print_first_n_char])\n",
        "        print(f\"First {print_first_n_char} characters of candidate documents: \")\n",
        "        for top_n_doc_id in top_n_doc_ids:\n",
        "            print(f'Doc ID: {top_n_doc_id}', newsgroups_train.data[top_n_doc_id][:print_first_n_char])\n",
        "\n",
        "    if return_all_bool: return top_n_doc_ids, top_n_doc_similarities, all_results\n",
        "    else: return top_n_doc_ids, top_n_doc_similarities\n",
        "\n"
      ]
    },
    {
      "cell_type": "code",
      "execution_count": null,
      "metadata": {
        "id": "f77JSNIFWlAf",
        "outputId": "5ca04ceb-3d49-4b39-b89f-cbf3f97e3264"
      },
      "outputs": [
        {
          "data": {
            "text/html": [
              "<div>\n",
              "<style scoped>\n",
              "    .dataframe tbody tr th:only-of-type {\n",
              "        vertical-align: middle;\n",
              "    }\n",
              "\n",
              "    .dataframe tbody tr th {\n",
              "        vertical-align: top;\n",
              "    }\n",
              "\n",
              "    .dataframe thead th {\n",
              "        text-align: right;\n",
              "    }\n",
              "</style>\n",
              "<table border=\"1\" class=\"dataframe\">\n",
              "  <thead>\n",
              "    <tr style=\"text-align: right;\">\n",
              "      <th></th>\n",
              "      <th>id</th>\n",
              "      <th>description</th>\n",
              "    </tr>\n",
              "  </thead>\n",
              "  <tbody>\n",
              "    <tr>\n",
              "      <th>0</th>\n",
              "      <td>0</td>\n",
              "      <td>I am a little confused on all of the models of...</td>\n",
              "    </tr>\n",
              "    <tr>\n",
              "      <th>1</th>\n",
              "      <td>1</td>\n",
              "      <td>I'm not familiar at all with the format of the...</td>\n",
              "    </tr>\n",
              "    <tr>\n",
              "      <th>2</th>\n",
              "      <td>2</td>\n",
              "      <td>\\nIn a word, yes.\\n</td>\n",
              "    </tr>\n",
              "    <tr>\n",
              "      <th>3</th>\n",
              "      <td>3</td>\n",
              "      <td>\\nThey were attacking the Iraqis to drive them...</td>\n",
              "    </tr>\n",
              "    <tr>\n",
              "      <th>4</th>\n",
              "      <td>4</td>\n",
              "      <td>\\nI've just spent two solid months arguing tha...</td>\n",
              "    </tr>\n",
              "    <tr>\n",
              "      <th>...</th>\n",
              "      <td>...</td>\n",
              "      <td>...</td>\n",
              "    </tr>\n",
              "    <tr>\n",
              "      <th>7527</th>\n",
              "      <td>7527</td>\n",
              "      <td>\\n   Henry, if I read you correctly, you may b...</td>\n",
              "    </tr>\n",
              "    <tr>\n",
              "      <th>7528</th>\n",
              "      <td>7528</td>\n",
              "      <td>about\\nthem on\\n\\nActually, I thought Macs wer...</td>\n",
              "    </tr>\n",
              "    <tr>\n",
              "      <th>7529</th>\n",
              "      <td>7529</td>\n",
              "      <td>I sent a version of this post out a while ago,...</td>\n",
              "    </tr>\n",
              "    <tr>\n",
              "      <th>7530</th>\n",
              "      <td>7530</td>\n",
              "      <td>I have this kit which includes the following :...</td>\n",
              "    </tr>\n",
              "    <tr>\n",
              "      <th>7531</th>\n",
              "      <td>7531</td>\n",
              "      <td>\\nFine, but one of the points of this entire d...</td>\n",
              "    </tr>\n",
              "  </tbody>\n",
              "</table>\n",
              "<p>7532 rows × 2 columns</p>\n",
              "</div>"
            ],
            "text/plain": [
              "        id                                        description\n",
              "0        0  I am a little confused on all of the models of...\n",
              "1        1  I'm not familiar at all with the format of the...\n",
              "2        2                                \\nIn a word, yes.\\n\n",
              "3        3  \\nThey were attacking the Iraqis to drive them...\n",
              "4        4  \\nI've just spent two solid months arguing tha...\n",
              "...    ...                                                ...\n",
              "7527  7527  \\n   Henry, if I read you correctly, you may b...\n",
              "7528  7528  about\\nthem on\\n\\nActually, I thought Macs wer...\n",
              "7529  7529  I sent a version of this post out a while ago,...\n",
              "7530  7530  I have this kit which includes the following :...\n",
              "7531  7531  \\nFine, but one of the points of this entire d...\n",
              "\n",
              "[7532 rows x 2 columns]"
            ]
          },
          "execution_count": 311,
          "metadata": {},
          "output_type": "execute_result"
        }
      ],
      "source": [
        "newsgroups_test = fetch_20newsgroups(\n",
        "    subset=\"test\", remove=(\"headers\", \"footers\", \"quotes\"),\n",
        ")\n",
        "news_test_df = pd.DataFrame()\n",
        "news_test_df[\"id\"] = newsgroups_test.target\n",
        "news_test_df[\"id\"] = list(range(len(newsgroups_test.data)))\n",
        "news_test_df[\"description\"] = newsgroups_test.data\n",
        "\n",
        "news_test_df"
      ]
    },
    {
      "cell_type": "code",
      "execution_count": null,
      "metadata": {
        "id": "TOAu2znQWlAf",
        "outputId": "f1fdd17f-89c7-4edb-e35b-b4d5eefe03e3"
      },
      "outputs": [
        {
          "name": "stdout",
          "output_type": "stream",
          "text": [
            "First 20 characters of nput document: I am a little confus\n",
            "First 20 characters of candidate documents: \n",
            "Doc ID: 2048 From: mikkot@romulus\n",
            "Doc ID: 2100 From: surfer@world.s\n",
            "Doc ID: 8363 From: maynard@ramsey\n",
            "Doc ID: 366 From: db7n+@andrew.c\n",
            "Doc ID: 487 From: margoli@watson\n",
            "Doc ID: 2608 From: jono@mac-ak-24\n",
            "Doc ID: 8774 From: david@terminus\n",
            "Doc ID: 650 From: ata@hfsi.hfsi.\n",
            "Doc ID: 693 From: chen@protostar\n",
            "Doc ID: 2790 From: oehler@picard.\n"
          ]
        }
      ],
      "source": [
        "top_n_test, top_n_test_sim,test_result_thing = top_n(\n",
        "    news_test_df[\"description\"][0],\n",
        "    10,\n",
        "    0.7,\n",
        "    all_ref_planes[0],\n",
        "    unique_filtered_words,\n",
        "    all_lsh_buckets[0],\n",
        "    print_first_n_char=20,\n",
        "    return_all_bool=True\n",
        ")"
      ]
    },
    {
      "cell_type": "code",
      "execution_count": null,
      "metadata": {
        "id": "_-mBHdr7WlAg",
        "outputId": "17ee554e-15db-4a75-aab3-c13f25299335"
      },
      "outputs": [
        {
          "name": "stdout",
          "output_type": "stream",
          "text": [
            "6871\n",
            "216 4537 890 1228\n",
            "0.6917479260660748 0.19529837251356238 0.14958448753462603 0.8360051593882439 0.16941176470588235\n"
          ]
        }
      ],
      "source": [
        "test_input_document_category = newsgroups_test.target_names[newsgroups_test.target[0]].split('.')[0]\n",
        "some_threshold = 0.7\n",
        "true_positives = 0\n",
        "false_positives = 0\n",
        "true_negatives = 0\n",
        "false_negatives = 0\n",
        "\n",
        "for result_doc_id in test_result_thing.keys():\n",
        "    candidate_target = newsgroups_train.target_names[newsgroups_train.target[result_doc_id]].split('.')[0]\n",
        "\n",
        "    if candidate_target == test_input_document_category:\n",
        "        if test_result_thing[result_doc_id] >= some_threshold:\n",
        "            true_positives  += 1\n",
        "        else:\n",
        "            false_negatives += 1\n",
        "    else:\n",
        "        if test_result_thing[result_doc_id] >= some_threshold:\n",
        "            false_positives += 1\n",
        "        else:\n",
        "            true_negatives += 1\n",
        "\n",
        "\n",
        "precision = true_positives/ (true_positives+false_positives)\n",
        "recall = true_positives /(true_positives+false_negatives)\n",
        "fp_rate = false_positives/(false_positives+true_negatives)\n",
        "specificity = 1-fp_rate\n",
        "f1score = 2* (precision*recall)/(precision+recall)\n",
        "accuracy = (true_positives+true_negatives)/(true_positives+false_negatives+true_negatives+false_positives)\n",
        "\n",
        "print(len(test_result_thing.keys()))\n",
        "print(true_positives, true_negatives, false_positives, false_negatives)\n",
        "print(accuracy, precision, recall, specificity, f1score)\n"
      ]
    },
    {
      "cell_type": "code",
      "execution_count": null,
      "metadata": {
        "id": "Yhkl_V_nWlAg",
        "outputId": "6e47957c-f8f0-4468-f536-417f40adb200"
      },
      "outputs": [
        {
          "name": "stdout",
          "output_type": "stream",
          "text": [
            "row numbers:  8 band numbers:  16\n",
            "row numbers:  16 band numbers:  16\n",
            "row numbers:  32 band numbers:  16\n",
            "row numbers:  64 band numbers:  16\n",
            "row numbers:  128 band numbers:  16\n",
            "row numbers:  8 band numbers:  64\n",
            "row numbers:  16 band numbers:  64\n",
            "row numbers:  32 band numbers:  64\n",
            "row numbers:  64 band numbers:  64\n",
            "row numbers:  128 band numbers:  64\n"
          ]
        }
      ],
      "source": [
        "N = 1\n",
        "sim_threshold = 0.7\n",
        "number_of_articles = 100\n",
        "results = dict()\n",
        "\n",
        "\n",
        "for indx, ref_plane in enumerate(all_ref_planes):\n",
        "    print(\n",
        "        \"row numbers: \", len(ref_plane[0]), \"band numbers: \", len(all_lsh_buckets[indx])\n",
        "    )\n",
        "    band_num = len(all_lsh_buckets[indx])\n",
        "    row_num = len(ref_plane[0])\n",
        "\n",
        "    if results.get(band_num) is None:\n",
        "        results[band_num] = {}\n",
        "\n",
        "    true_positives = 0\n",
        "    false_positives = 0\n",
        "    true_negatives = 0\n",
        "    false_negatives = 0\n",
        "\n",
        "    for input_indx, input_document in enumerate(\n",
        "        news_test_df[\"description\"][:number_of_articles]\n",
        "    ):\n",
        "        _, _, all_topn_results = top_n(\n",
        "            input_document,\n",
        "            N,\n",
        "            sim_threshold,\n",
        "            ref_plane,\n",
        "            unique_filtered_words,\n",
        "            all_lsh_buckets[indx],\n",
        "            return_all_bool=True,\n",
        "        )\n",
        "        input_document_category = newsgroups_test.target_names[\n",
        "            newsgroups_test.target[input_indx]\n",
        "        ].split(\".\")[0]\n",
        "\n",
        "        # all_topn_results takes the format of {docid: similarity}\n",
        "\n",
        "        for result_doc_id in all_topn_results.keys():\n",
        "            candidate_target = newsgroups_train.target_names[\n",
        "                newsgroups_train.target[result_doc_id]\n",
        "            ].split(\".\")[0]\n",
        "\n",
        "            if (\n",
        "                candidate_target == test_input_document_category\n",
        "            ):  # The documents are actually in the same category\n",
        "                if (\n",
        "                    all_topn_results[result_doc_id] >= sim_threshold\n",
        "                ):  # The documents were predicted to be in the same category\n",
        "                    true_positives += 1\n",
        "                else:  # The documents were predicted to not be in the same category\n",
        "                    false_negatives += 1\n",
        "            else:  # the documents are not in the same category\n",
        "                if (\n",
        "                    all_topn_results[result_doc_id] >= sim_threshold\n",
        "                ):  # the docuemnts were predicted to be in the same category\n",
        "                    false_positives += 1\n",
        "                else:  # the documents were predicted to not be in the same category\n",
        "                    true_negatives += 1\n",
        "\n",
        "\n",
        "    precision = true_positives / (true_positives + false_positives)\n",
        "    recall = true_positives / (true_positives + false_negatives)\n",
        "\n",
        "    if false_positives + true_negatives == 0: fp_rate = 0\n",
        "    else: fp_rate = false_positives / (false_positives + true_negatives)\n",
        "\n",
        "    specificity = 1 - fp_rate\n",
        "    f1score = 2 * (precision * recall) / (precision + recall)\n",
        "    accuracy = (true_positives + true_negatives) / (\n",
        "        true_positives + false_negatives + true_negatives + false_positives\n",
        "    )\n",
        "\n",
        "    results[band_num][row_num] = {\n",
        "        \"precision\": precision,\n",
        "        \"true_positives\": true_positives,\n",
        "        \"false_positives\": false_positives,\n",
        "        \"accuracy\": accuracy,\n",
        "        \"recall\": recall,\n",
        "        \"fp_rate\": fp_rate,\n",
        "        \"f1score\": f1score,\n",
        "        \"specificity\": specificity,\n",
        "        'true_negatives': true_negatives,\n",
        "        'false_negatives': false_negatives,\n",
        "\n",
        "    }\n"
      ]
    },
    {
      "cell_type": "code",
      "execution_count": null,
      "metadata": {
        "id": "aER9qV19WlAg",
        "outputId": "98fe70d7-67b3-449b-aab7-d7d120763771"
      },
      "outputs": [
        {
          "name": "stdout",
          "output_type": "stream",
          "text": [
            "{\n",
            "    \"16\": {\n",
            "        \"8\": {\n",
            "            \"accuracy\": 0.7055185124010049,\n",
            "            \"f1score\": 0.17414518193454012,\n",
            "            \"false_negatives\": 124353,\n",
            "            \"false_positives\": 78894,\n",
            "            \"fp_rate\": 0.1449181122842595,\n",
            "            \"precision\": 0.21360007176818874,\n",
            "            \"recall\": 0.14699345598222002,\n",
            "            \"specificity\": 0.8550818877157405,\n",
            "            \"true_negatives\": 465510,\n",
            "            \"true_positives\": 21429\n",
            "        },\n",
            "        \"16\": {\n",
            "            \"accuracy\": 0.7636193593640402,\n",
            "            \"f1score\": 0.08340888485947416,\n",
            "            \"false_negatives\": 882,\n",
            "            \"false_positives\": 129,\n",
            "            \"fp_rate\": 0.038518960883845925,\n",
            "            \"precision\": 0.26285714285714284,\n",
            "            \"recall\": 0.04956896551724138,\n",
            "            \"specificity\": 0.9614810391161541,\n",
            "            \"true_negatives\": 3220,\n",
            "            \"true_positives\": 46\n",
            "        },\n",
            "        \"32\": {\n",
            "            \"accuracy\": 0.8,\n",
            "            \"f1score\": 0.888888888888889,\n",
            "            \"false_negatives\": 1,\n",
            "            \"false_positives\": 0,\n",
            "            \"fp_rate\": 0,\n",
            "            \"precision\": 1.0,\n",
            "            \"recall\": 0.8,\n",
            "            \"specificity\": 1,\n",
            "            \"true_negatives\": 0,\n",
            "            \"true_positives\": 4\n",
            "        },\n",
            "        \"64\": {\n",
            "            \"accuracy\": 1.0,\n",
            "            \"f1score\": 1.0,\n",
            "            \"false_negatives\": 0,\n",
            "            \"false_positives\": 0,\n",
            "            \"fp_rate\": 0,\n",
            "            \"precision\": 1.0,\n",
            "            \"recall\": 1.0,\n",
            "            \"specificity\": 1,\n",
            "            \"true_negatives\": 0,\n",
            "            \"true_positives\": 4\n",
            "        },\n",
            "        \"128\": {\n",
            "            \"accuracy\": 1.0,\n",
            "            \"f1score\": 1.0,\n",
            "            \"false_negatives\": 0,\n",
            "            \"false_positives\": 0,\n",
            "            \"fp_rate\": 0,\n",
            "            \"precision\": 1.0,\n",
            "            \"recall\": 1.0,\n",
            "            \"specificity\": 1,\n",
            "            \"true_negatives\": 0,\n",
            "            \"true_positives\": 4\n",
            "        }\n",
            "    },\n",
            "    \"64\": {\n",
            "        \"8\": {\n",
            "            \"accuracy\": 0.702566788607908,\n",
            "            \"f1score\": 0.1722064201544088,\n",
            "            \"false_negatives\": 197359,\n",
            "            \"false_positives\": 128593,\n",
            "            \"fp_rate\": 0.14872776479840855,\n",
            "            \"precision\": 0.20864385188649637,\n",
            "            \"recall\": 0.14660365038938353,\n",
            "            \"specificity\": 0.8512722352015915,\n",
            "            \"true_negatives\": 736027,\n",
            "            \"true_positives\": 33904\n",
            "        },\n",
            "        \"16\": {\n",
            "            \"accuracy\": 0.76625720351835,\n",
            "            \"f1score\": 0.07301377277921453,\n",
            "            \"false_negatives\": 13292,\n",
            "            \"false_positives\": 2121,\n",
            "            \"fp_rate\": 0.040756326742376205,\n",
            "            \"precision\": 0.22250733137829912,\n",
            "            \"recall\": 0.04367220663357076,\n",
            "            \"specificity\": 0.9592436732576238,\n",
            "            \"true_negatives\": 49920,\n",
            "            \"true_positives\": 607\n",
            "        },\n",
            "        \"32\": {\n",
            "            \"accuracy\": 1.0,\n",
            "            \"f1score\": 1.0,\n",
            "            \"false_negatives\": 0,\n",
            "            \"false_positives\": 0,\n",
            "            \"fp_rate\": 0,\n",
            "            \"precision\": 1.0,\n",
            "            \"recall\": 1.0,\n",
            "            \"specificity\": 1,\n",
            "            \"true_negatives\": 0,\n",
            "            \"true_positives\": 4\n",
            "        },\n",
            "        \"64\": {\n",
            "            \"accuracy\": 1.0,\n",
            "            \"f1score\": 1.0,\n",
            "            \"false_negatives\": 0,\n",
            "            \"false_positives\": 0,\n",
            "            \"fp_rate\": 0,\n",
            "            \"precision\": 1.0,\n",
            "            \"recall\": 1.0,\n",
            "            \"specificity\": 1,\n",
            "            \"true_negatives\": 0,\n",
            "            \"true_positives\": 4\n",
            "        },\n",
            "        \"128\": {\n",
            "            \"accuracy\": 1.0,\n",
            "            \"f1score\": 1.0,\n",
            "            \"false_negatives\": 0,\n",
            "            \"false_positives\": 0,\n",
            "            \"fp_rate\": 0,\n",
            "            \"precision\": 1.0,\n",
            "            \"recall\": 1.0,\n",
            "            \"specificity\": 1,\n",
            "            \"true_negatives\": 0,\n",
            "            \"true_positives\": 4\n",
            "        }\n",
            "    }\n",
            "}\n"
          ]
        }
      ],
      "source": [
        "print(json.dumps(results, indent=4, sort_keys=True))"
      ]
    },
    {
      "cell_type": "code",
      "execution_count": null,
      "metadata": {
        "id": "eTOnbMqUWlAg"
      },
      "outputs": [],
      "source": []
    }
  ],
  "metadata": {
    "colab": {
      "provenance": []
    },
    "kernelspec": {
      "display_name": "Python 3",
      "name": "python3"
    },
    "language_info": {
      "codemirror_mode": {
        "name": "ipython",
        "version": 3
      },
      "file_extension": ".py",
      "mimetype": "text/x-python",
      "name": "python",
      "nbconvert_exporter": "python",
      "pygments_lexer": "ipython3",
      "version": "3.9.6"
    }
  },
  "nbformat": 4,
  "nbformat_minor": 0
}